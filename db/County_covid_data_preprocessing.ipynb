{
 "cells": [
  {
   "cell_type": "markdown",
   "id": "577d203a",
   "metadata": {},
   "source": [
    "# Split file into two"
   ]
  },
  {
   "cell_type": "code",
   "execution_count": 1,
   "id": "1fbd6748",
   "metadata": {},
   "outputs": [],
   "source": [
    "# import pandas as pd"
   ]
  },
  {
   "cell_type": "code",
   "execution_count": 2,
   "id": "5282f7d9",
   "metadata": {},
   "outputs": [],
   "source": [
    "# # Read original CSV\n",
    "# date_parser = lambda x: datetime.strptime(x, '%Y-%m-%d')\n",
    "# df_in = pd.read_csv(\"./raw/us-counties.csv\", parse_dates=['date'], date_parser=date_parser)\n",
    "# df_in.head()"
   ]
  },
  {
   "cell_type": "code",
   "execution_count": 3,
   "id": "43675459",
   "metadata": {},
   "outputs": [],
   "source": [
    "# # Check number of rows in the original CSV\n",
    "# len(df_in)"
   ]
  },
  {
   "cell_type": "code",
   "execution_count": 4,
   "id": "77b6fffb",
   "metadata": {},
   "outputs": [],
   "source": [
    "# # Split original CSV into 2 to keep number of rows within the maximum limit allowed in excel\n",
    "# split1 = df_in[:int(len(df_in) / 2)]\n",
    "# split2 = df_in[int(len(df_in) / 2):]\n",
    "# print(len(split1), len(split2))"
   ]
  },
  {
   "cell_type": "code",
   "execution_count": 5,
   "id": "9c0190ba",
   "metadata": {},
   "outputs": [],
   "source": [
    "# # Store CSV\n",
    "# split1.to_csv(\"./raw/us-counties-part-i.csv\", index=False)\n",
    "# split2.to_csv(\"./raw/us-counties-part-ii.csv\", index=False)"
   ]
  },
  {
   "cell_type": "markdown",
   "id": "c166d9f0",
   "metadata": {},
   "source": [
    "# Foreign Key Generation"
   ]
  },
  {
   "cell_type": "code",
   "execution_count": 6,
   "id": "5bb8799b",
   "metadata": {},
   "outputs": [],
   "source": [
    "from datetime import datetime\n",
    "import numpy as np\n",
    "import pandas as pd"
   ]
  },
  {
   "cell_type": "code",
   "execution_count": 7,
   "id": "0a44fa7e",
   "metadata": {},
   "outputs": [
    {
     "data": {
      "text/html": [
       "<div>\n",
       "<style scoped>\n",
       "    .dataframe tbody tr th:only-of-type {\n",
       "        vertical-align: middle;\n",
       "    }\n",
       "\n",
       "    .dataframe tbody tr th {\n",
       "        vertical-align: top;\n",
       "    }\n",
       "\n",
       "    .dataframe thead th {\n",
       "        text-align: right;\n",
       "    }\n",
       "</style>\n",
       "<table border=\"1\" class=\"dataframe\">\n",
       "  <thead>\n",
       "    <tr style=\"text-align: right;\">\n",
       "      <th></th>\n",
       "      <th>id</th>\n",
       "      <th>county</th>\n",
       "      <th>population</th>\n",
       "      <th>state</th>\n",
       "      <th>state_id</th>\n",
       "    </tr>\n",
       "  </thead>\n",
       "  <tbody>\n",
       "    <tr>\n",
       "      <th>0</th>\n",
       "      <td>1</td>\n",
       "      <td>Autauga</td>\n",
       "      <td>55601</td>\n",
       "      <td>Alabama</td>\n",
       "      <td>1</td>\n",
       "    </tr>\n",
       "    <tr>\n",
       "      <th>1</th>\n",
       "      <td>2</td>\n",
       "      <td>Baldwin</td>\n",
       "      <td>218022</td>\n",
       "      <td>Alabama</td>\n",
       "      <td>1</td>\n",
       "    </tr>\n",
       "    <tr>\n",
       "      <th>2</th>\n",
       "      <td>3</td>\n",
       "      <td>Barbour</td>\n",
       "      <td>24881</td>\n",
       "      <td>Alabama</td>\n",
       "      <td>1</td>\n",
       "    </tr>\n",
       "    <tr>\n",
       "      <th>3</th>\n",
       "      <td>4</td>\n",
       "      <td>Bibb</td>\n",
       "      <td>22400</td>\n",
       "      <td>Alabama</td>\n",
       "      <td>1</td>\n",
       "    </tr>\n",
       "    <tr>\n",
       "      <th>4</th>\n",
       "      <td>5</td>\n",
       "      <td>Blount</td>\n",
       "      <td>57840</td>\n",
       "      <td>Alabama</td>\n",
       "      <td>1</td>\n",
       "    </tr>\n",
       "  </tbody>\n",
       "</table>\n",
       "</div>"
      ],
      "text/plain": [
       "   id   county  population    state  state_id\n",
       "0   1  Autauga       55601  Alabama         1\n",
       "1   2  Baldwin      218022  Alabama         1\n",
       "2   3  Barbour       24881  Alabama         1\n",
       "3   4     Bibb       22400  Alabama         1\n",
       "4   5   Blount       57840  Alabama         1"
      ]
     },
     "execution_count": 7,
     "metadata": {},
     "output_type": "execute_result"
    }
   ],
   "source": [
    "# Read State table to get foreign key value\n",
    "df_ref = pd.read_csv(\"./cleaned/County.csv\")\n",
    "df_ref.head()"
   ]
  },
  {
   "cell_type": "code",
   "execution_count": 14,
   "id": "5b77d8e2",
   "metadata": {},
   "outputs": [
    {
     "data": {
      "text/html": [
       "<div>\n",
       "<style scoped>\n",
       "    .dataframe tbody tr th:only-of-type {\n",
       "        vertical-align: middle;\n",
       "    }\n",
       "\n",
       "    .dataframe tbody tr th {\n",
       "        vertical-align: top;\n",
       "    }\n",
       "\n",
       "    .dataframe thead th {\n",
       "        text-align: right;\n",
       "    }\n",
       "</style>\n",
       "<table border=\"1\" class=\"dataframe\">\n",
       "  <thead>\n",
       "    <tr style=\"text-align: right;\">\n",
       "      <th></th>\n",
       "      <th>date</th>\n",
       "      <th>cases</th>\n",
       "      <th>deaths</th>\n",
       "      <th>county</th>\n",
       "      <th>state</th>\n",
       "    </tr>\n",
       "  </thead>\n",
       "  <tbody>\n",
       "    <tr>\n",
       "      <th>0</th>\n",
       "      <td>2020-01-21</td>\n",
       "      <td>1</td>\n",
       "      <td>0</td>\n",
       "      <td>Snohomish</td>\n",
       "      <td>Washington</td>\n",
       "    </tr>\n",
       "    <tr>\n",
       "      <th>1</th>\n",
       "      <td>2020-01-22</td>\n",
       "      <td>1</td>\n",
       "      <td>0</td>\n",
       "      <td>Snohomish</td>\n",
       "      <td>Washington</td>\n",
       "    </tr>\n",
       "    <tr>\n",
       "      <th>2</th>\n",
       "      <td>2020-01-23</td>\n",
       "      <td>1</td>\n",
       "      <td>0</td>\n",
       "      <td>Snohomish</td>\n",
       "      <td>Washington</td>\n",
       "    </tr>\n",
       "    <tr>\n",
       "      <th>3</th>\n",
       "      <td>2020-01-24</td>\n",
       "      <td>1</td>\n",
       "      <td>0</td>\n",
       "      <td>Cook</td>\n",
       "      <td>Illinois</td>\n",
       "    </tr>\n",
       "    <tr>\n",
       "      <th>4</th>\n",
       "      <td>2020-01-24</td>\n",
       "      <td>1</td>\n",
       "      <td>0</td>\n",
       "      <td>Snohomish</td>\n",
       "      <td>Washington</td>\n",
       "    </tr>\n",
       "  </tbody>\n",
       "</table>\n",
       "</div>"
      ],
      "text/plain": [
       "        date  cases  deaths     county       state\n",
       "0 2020-01-21      1       0  Snohomish  Washington\n",
       "1 2020-01-22      1       0  Snohomish  Washington\n",
       "2 2020-01-23      1       0  Snohomish  Washington\n",
       "3 2020-01-24      1       0       Cook    Illinois\n",
       "4 2020-01-24      1       0  Snohomish  Washington"
      ]
     },
     "execution_count": 14,
     "metadata": {},
     "output_type": "execute_result"
    }
   ],
   "source": [
    "# Read original CSV\n",
    "date_parser = lambda x: datetime.strptime(x, '%m/%d/%Y')\n",
    "df_in_1 = pd.read_csv(\"./raw/County_covid_data_part_i.csv\", parse_dates=['date'], date_parser=date_parser)\n",
    "df_in_1.head()"
   ]
  },
  {
   "cell_type": "code",
   "execution_count": 15,
   "id": "7f936062",
   "metadata": {},
   "outputs": [
    {
     "data": {
      "text/html": [
       "<div>\n",
       "<style scoped>\n",
       "    .dataframe tbody tr th:only-of-type {\n",
       "        vertical-align: middle;\n",
       "    }\n",
       "\n",
       "    .dataframe tbody tr th {\n",
       "        vertical-align: top;\n",
       "    }\n",
       "\n",
       "    .dataframe thead th {\n",
       "        text-align: right;\n",
       "    }\n",
       "</style>\n",
       "<table border=\"1\" class=\"dataframe\">\n",
       "  <thead>\n",
       "    <tr style=\"text-align: right;\">\n",
       "      <th></th>\n",
       "      <th>date</th>\n",
       "      <th>cases</th>\n",
       "      <th>deaths</th>\n",
       "      <th>county</th>\n",
       "      <th>state</th>\n",
       "    </tr>\n",
       "  </thead>\n",
       "  <tbody>\n",
       "    <tr>\n",
       "      <th>830249</th>\n",
       "      <td>2021-09-14</td>\n",
       "      <td>6275</td>\n",
       "      <td>53</td>\n",
       "      <td>Sweetwater</td>\n",
       "      <td>Wyoming</td>\n",
       "    </tr>\n",
       "    <tr>\n",
       "      <th>830250</th>\n",
       "      <td>2021-09-14</td>\n",
       "      <td>4679</td>\n",
       "      <td>11</td>\n",
       "      <td>Teton</td>\n",
       "      <td>Wyoming</td>\n",
       "    </tr>\n",
       "    <tr>\n",
       "      <th>830251</th>\n",
       "      <td>2021-09-14</td>\n",
       "      <td>3248</td>\n",
       "      <td>21</td>\n",
       "      <td>Uinta</td>\n",
       "      <td>Wyoming</td>\n",
       "    </tr>\n",
       "    <tr>\n",
       "      <th>830252</th>\n",
       "      <td>2021-09-14</td>\n",
       "      <td>1147</td>\n",
       "      <td>27</td>\n",
       "      <td>Washakie</td>\n",
       "      <td>Wyoming</td>\n",
       "    </tr>\n",
       "    <tr>\n",
       "      <th>830253</th>\n",
       "      <td>2021-09-14</td>\n",
       "      <td>845</td>\n",
       "      <td>7</td>\n",
       "      <td>Weston</td>\n",
       "      <td>Wyoming</td>\n",
       "    </tr>\n",
       "  </tbody>\n",
       "</table>\n",
       "</div>"
      ],
      "text/plain": [
       "             date  cases  deaths      county    state\n",
       "830249 2021-09-14   6275      53  Sweetwater  Wyoming\n",
       "830250 2021-09-14   4679      11       Teton  Wyoming\n",
       "830251 2021-09-14   3248      21       Uinta  Wyoming\n",
       "830252 2021-09-14   1147      27    Washakie  Wyoming\n",
       "830253 2021-09-14    845       7      Weston  Wyoming"
      ]
     },
     "execution_count": 15,
     "metadata": {},
     "output_type": "execute_result"
    }
   ],
   "source": [
    "# Read original CSV\n",
    "date_parser = lambda x: datetime.strptime(x, '%m/%d/%Y')\n",
    "df_in_2 = pd.read_csv(\"./raw/County_covid_data_part_ii.csv\", parse_dates=['date'], date_parser=date_parser)\n",
    "df_in_2.tail()"
   ]
  },
  {
   "cell_type": "code",
   "execution_count": 16,
   "id": "f482c4a5",
   "metadata": {},
   "outputs": [
    {
     "data": {
      "text/html": [
       "<div>\n",
       "<style scoped>\n",
       "    .dataframe tbody tr th:only-of-type {\n",
       "        vertical-align: middle;\n",
       "    }\n",
       "\n",
       "    .dataframe tbody tr th {\n",
       "        vertical-align: top;\n",
       "    }\n",
       "\n",
       "    .dataframe thead th {\n",
       "        text-align: right;\n",
       "    }\n",
       "</style>\n",
       "<table border=\"1\" class=\"dataframe\">\n",
       "  <thead>\n",
       "    <tr style=\"text-align: right;\">\n",
       "      <th></th>\n",
       "      <th>date</th>\n",
       "      <th>cases</th>\n",
       "      <th>deaths</th>\n",
       "      <th>county</th>\n",
       "      <th>state</th>\n",
       "    </tr>\n",
       "  </thead>\n",
       "  <tbody>\n",
       "    <tr>\n",
       "      <th>0</th>\n",
       "      <td>2020-01-21</td>\n",
       "      <td>1</td>\n",
       "      <td>0</td>\n",
       "      <td>Snohomish</td>\n",
       "      <td>Washington</td>\n",
       "    </tr>\n",
       "    <tr>\n",
       "      <th>1</th>\n",
       "      <td>2020-01-22</td>\n",
       "      <td>1</td>\n",
       "      <td>0</td>\n",
       "      <td>Snohomish</td>\n",
       "      <td>Washington</td>\n",
       "    </tr>\n",
       "    <tr>\n",
       "      <th>2</th>\n",
       "      <td>2020-01-23</td>\n",
       "      <td>1</td>\n",
       "      <td>0</td>\n",
       "      <td>Snohomish</td>\n",
       "      <td>Washington</td>\n",
       "    </tr>\n",
       "    <tr>\n",
       "      <th>3</th>\n",
       "      <td>2020-01-24</td>\n",
       "      <td>1</td>\n",
       "      <td>0</td>\n",
       "      <td>Cook</td>\n",
       "      <td>Illinois</td>\n",
       "    </tr>\n",
       "    <tr>\n",
       "      <th>4</th>\n",
       "      <td>2020-01-24</td>\n",
       "      <td>1</td>\n",
       "      <td>0</td>\n",
       "      <td>Snohomish</td>\n",
       "      <td>Washington</td>\n",
       "    </tr>\n",
       "  </tbody>\n",
       "</table>\n",
       "</div>"
      ],
      "text/plain": [
       "        date  cases  deaths     county       state\n",
       "0 2020-01-21      1       0  Snohomish  Washington\n",
       "1 2020-01-22      1       0  Snohomish  Washington\n",
       "2 2020-01-23      1       0  Snohomish  Washington\n",
       "3 2020-01-24      1       0       Cook    Illinois\n",
       "4 2020-01-24      1       0  Snohomish  Washington"
      ]
     },
     "execution_count": 16,
     "metadata": {},
     "output_type": "execute_result"
    }
   ],
   "source": [
    "df_in = pd.concat([df_in_1, df_in_2])\n",
    "df_in.head()"
   ]
  },
  {
   "cell_type": "code",
   "execution_count": 17,
   "id": "830c02df",
   "metadata": {},
   "outputs": [
    {
     "data": {
      "text/html": [
       "<div>\n",
       "<style scoped>\n",
       "    .dataframe tbody tr th:only-of-type {\n",
       "        vertical-align: middle;\n",
       "    }\n",
       "\n",
       "    .dataframe tbody tr th {\n",
       "        vertical-align: top;\n",
       "    }\n",
       "\n",
       "    .dataframe thead th {\n",
       "        text-align: right;\n",
       "    }\n",
       "</style>\n",
       "<table border=\"1\" class=\"dataframe\">\n",
       "  <thead>\n",
       "    <tr style=\"text-align: right;\">\n",
       "      <th></th>\n",
       "      <th>date</th>\n",
       "      <th>cases</th>\n",
       "      <th>deaths</th>\n",
       "      <th>county</th>\n",
       "      <th>state</th>\n",
       "    </tr>\n",
       "  </thead>\n",
       "  <tbody>\n",
       "    <tr>\n",
       "      <th>830249</th>\n",
       "      <td>2021-09-14</td>\n",
       "      <td>6275</td>\n",
       "      <td>53</td>\n",
       "      <td>Sweetwater</td>\n",
       "      <td>Wyoming</td>\n",
       "    </tr>\n",
       "    <tr>\n",
       "      <th>830250</th>\n",
       "      <td>2021-09-14</td>\n",
       "      <td>4679</td>\n",
       "      <td>11</td>\n",
       "      <td>Teton</td>\n",
       "      <td>Wyoming</td>\n",
       "    </tr>\n",
       "    <tr>\n",
       "      <th>830251</th>\n",
       "      <td>2021-09-14</td>\n",
       "      <td>3248</td>\n",
       "      <td>21</td>\n",
       "      <td>Uinta</td>\n",
       "      <td>Wyoming</td>\n",
       "    </tr>\n",
       "    <tr>\n",
       "      <th>830252</th>\n",
       "      <td>2021-09-14</td>\n",
       "      <td>1147</td>\n",
       "      <td>27</td>\n",
       "      <td>Washakie</td>\n",
       "      <td>Wyoming</td>\n",
       "    </tr>\n",
       "    <tr>\n",
       "      <th>830253</th>\n",
       "      <td>2021-09-14</td>\n",
       "      <td>845</td>\n",
       "      <td>7</td>\n",
       "      <td>Weston</td>\n",
       "      <td>Wyoming</td>\n",
       "    </tr>\n",
       "  </tbody>\n",
       "</table>\n",
       "</div>"
      ],
      "text/plain": [
       "             date  cases  deaths      county    state\n",
       "830249 2021-09-14   6275      53  Sweetwater  Wyoming\n",
       "830250 2021-09-14   4679      11       Teton  Wyoming\n",
       "830251 2021-09-14   3248      21       Uinta  Wyoming\n",
       "830252 2021-09-14   1147      27    Washakie  Wyoming\n",
       "830253 2021-09-14    845       7      Weston  Wyoming"
      ]
     },
     "execution_count": 17,
     "metadata": {},
     "output_type": "execute_result"
    }
   ],
   "source": [
    "df_in.tail()"
   ]
  },
  {
   "cell_type": "code",
   "execution_count": 18,
   "id": "b274babe",
   "metadata": {},
   "outputs": [
    {
     "data": {
      "text/plain": [
       "1662816"
      ]
     },
     "execution_count": 18,
     "metadata": {},
     "output_type": "execute_result"
    }
   ],
   "source": [
    "len(df_in)"
   ]
  },
  {
   "cell_type": "code",
   "execution_count": 19,
   "id": "72c862d6",
   "metadata": {},
   "outputs": [
    {
     "data": {
      "text/html": [
       "<div>\n",
       "<style scoped>\n",
       "    .dataframe tbody tr th:only-of-type {\n",
       "        vertical-align: middle;\n",
       "    }\n",
       "\n",
       "    .dataframe tbody tr th {\n",
       "        vertical-align: top;\n",
       "    }\n",
       "\n",
       "    .dataframe thead th {\n",
       "        text-align: right;\n",
       "    }\n",
       "</style>\n",
       "<table border=\"1\" class=\"dataframe\">\n",
       "  <thead>\n",
       "    <tr style=\"text-align: right;\">\n",
       "      <th></th>\n",
       "      <th>record_date</th>\n",
       "      <th>daily_positive_cases</th>\n",
       "      <th>daily_deaths</th>\n",
       "      <th>county</th>\n",
       "      <th>state</th>\n",
       "      <th>county_id</th>\n",
       "    </tr>\n",
       "  </thead>\n",
       "  <tbody>\n",
       "  </tbody>\n",
       "</table>\n",
       "</div>"
      ],
      "text/plain": [
       "Empty DataFrame\n",
       "Columns: [record_date, daily_positive_cases, daily_deaths, county, state, county_id]\n",
       "Index: []"
      ]
     },
     "execution_count": 19,
     "metadata": {},
     "output_type": "execute_result"
    }
   ],
   "source": [
    "# Initialize new dataframe\n",
    "columns = [\n",
    "    \"record_date\",\n",
    "    \"daily_positive_cases\",\n",
    "    \"daily_deaths\",\n",
    "    \"county\",\n",
    "    \"state\",\n",
    "    \"county_id\"\n",
    "]\n",
    "df_out = pd.DataFrame([], columns=columns)\n",
    "df_out.head()"
   ]
  },
  {
   "cell_type": "code",
   "execution_count": 20,
   "id": "846cde71",
   "metadata": {},
   "outputs": [
    {
     "name": "stdout",
     "output_type": "stream",
     "text": [
      "[INFO] State: Washington\n",
      "[INFO] State: Illinois\n",
      "[INFO] State: California\n",
      "[INFO] State: Arizona\n",
      "[INFO] State: Massachusetts\n",
      "[INFO] State: Wisconsin\n",
      "[INFO] State: Texas\n",
      "[INFO] State: Nebraska\n",
      "[INFO] State: Utah\n",
      "[INFO] State: Oregon\n",
      "[INFO] State: Florida\n",
      "[INFO] State: New York\n",
      "[INFO] State: Georgia\n",
      "[INFO] State: New Hampshire\n",
      "[INFO] State: North Carolina\n",
      "[INFO] State: New Jersey\n",
      "[INFO] State: Colorado\n",
      "[INFO] State: Maryland\n",
      "[INFO] State: Nevada\n",
      "[INFO] State: Tennessee\n",
      "[INFO] State: Hawaii\n",
      "[INFO] State: Indiana\n",
      "[INFO] State: Kentucky\n",
      "[INFO] State: Minnesota\n",
      "[INFO] State: Oklahoma\n",
      "[INFO] State: Pennsylvania\n",
      "[INFO] State: South Carolina\n",
      "[INFO] State: District of Columbia\n",
      "[INFO] State: Kansas\n",
      "[INFO] State: Missouri\n",
      "[INFO] State: Vermont\n",
      "[INFO] State: Virginia\n",
      "[INFO] State: Connecticut\n",
      "[INFO] State: Iowa\n",
      "[INFO] State: Louisiana\n",
      "[INFO] State: Ohio\n",
      "[INFO] State: Michigan\n",
      "[INFO] State: South Dakota\n",
      "[INFO] State: Arkansas\n",
      "[INFO] State: Delaware\n",
      "[INFO] State: Mississippi\n",
      "[INFO] State: New Mexico\n",
      "[INFO] State: North Dakota\n",
      "[INFO] State: Wyoming\n",
      "[INFO] State: Alaska\n",
      "[INFO] State: Maine\n",
      "[INFO] State: Alabama\n",
      "[INFO] State: Idaho\n",
      "[INFO] State: Montana\n",
      "[INFO] State: West Virginia\n",
      "[INFO] State: Rhode Island\n"
     ]
    }
   ],
   "source": [
    "for state in df_in[\"state\"].unique():\n",
    "    print(\"[INFO] State: {}\".format(state))\n",
    "    df_state = df_in[df_in[\"state\"] == state]\n",
    "    for county in df_state[\"county\"].unique():\n",
    "        county_ids = df_ref[(df_ref['name'] == county) & (df_ref['state'] == state)][\"id\"] \n",
    "        if(len(county_ids) == 0):\n",
    "            continue\n",
    "        county_id = county_ids.iloc[0]\n",
    "#         print(\"[INFO] County: {}, State: {}, County_id: {}\".format(county, state, county_id))\n",
    "        df_county_state = df_state[df_state[\"county\"] == county].sort_values(by=['date'])\n",
    "        for i in range(len(df_county_state)):\n",
    "            current = df_county_state.iloc[i]\n",
    "            date = current[\"date\"]\n",
    "            if(i == 0):\n",
    "                daily_positive_cases = current[\"cases\"]\n",
    "                daily_deaths = current[\"deaths\"]\n",
    "            else:\n",
    "                previous = df_county_state.iloc[i - 1]\n",
    "                daily_positive_cases = current[\"cases\"] - previous[\"cases\"]\n",
    "                daily_deaths = current[\"deaths\"] - previous[\"deaths\"]\n",
    "            new_row = {\n",
    "                \"record_date\": date,\n",
    "                \"daily_positive_cases\": daily_positive_cases,\n",
    "                \"daily_deaths\": daily_deaths,\n",
    "                \"county\": county,\n",
    "                \"state\": state,\n",
    "                \"county_id\": county_id\n",
    "            }\n",
    "            df_out = df_out.append(new_row, ignore_index=True)"
   ]
  },
  {
   "cell_type": "code",
   "execution_count": 22,
   "id": "191be23b",
   "metadata": {},
   "outputs": [
    {
     "data": {
      "text/html": [
       "<div>\n",
       "<style scoped>\n",
       "    .dataframe tbody tr th:only-of-type {\n",
       "        vertical-align: middle;\n",
       "    }\n",
       "\n",
       "    .dataframe tbody tr th {\n",
       "        vertical-align: top;\n",
       "    }\n",
       "\n",
       "    .dataframe thead th {\n",
       "        text-align: right;\n",
       "    }\n",
       "</style>\n",
       "<table border=\"1\" class=\"dataframe\">\n",
       "  <thead>\n",
       "    <tr style=\"text-align: right;\">\n",
       "      <th></th>\n",
       "      <th>record_date</th>\n",
       "      <th>daily_positive_cases</th>\n",
       "      <th>daily_deaths</th>\n",
       "      <th>county</th>\n",
       "      <th>state</th>\n",
       "      <th>county_id</th>\n",
       "    </tr>\n",
       "  </thead>\n",
       "  <tbody>\n",
       "    <tr>\n",
       "      <th>0</th>\n",
       "      <td>2020-01-21</td>\n",
       "      <td>1</td>\n",
       "      <td>0</td>\n",
       "      <td>Snohomish</td>\n",
       "      <td>Washington</td>\n",
       "      <td>2982</td>\n",
       "    </tr>\n",
       "    <tr>\n",
       "      <th>1</th>\n",
       "      <td>2020-01-22</td>\n",
       "      <td>0</td>\n",
       "      <td>0</td>\n",
       "      <td>Snohomish</td>\n",
       "      <td>Washington</td>\n",
       "      <td>2982</td>\n",
       "    </tr>\n",
       "    <tr>\n",
       "      <th>2</th>\n",
       "      <td>2020-01-23</td>\n",
       "      <td>0</td>\n",
       "      <td>0</td>\n",
       "      <td>Snohomish</td>\n",
       "      <td>Washington</td>\n",
       "      <td>2982</td>\n",
       "    </tr>\n",
       "    <tr>\n",
       "      <th>3</th>\n",
       "      <td>2020-01-24</td>\n",
       "      <td>0</td>\n",
       "      <td>0</td>\n",
       "      <td>Snohomish</td>\n",
       "      <td>Washington</td>\n",
       "      <td>2982</td>\n",
       "    </tr>\n",
       "    <tr>\n",
       "      <th>4</th>\n",
       "      <td>2020-01-25</td>\n",
       "      <td>0</td>\n",
       "      <td>0</td>\n",
       "      <td>Snohomish</td>\n",
       "      <td>Washington</td>\n",
       "      <td>2982</td>\n",
       "    </tr>\n",
       "  </tbody>\n",
       "</table>\n",
       "</div>"
      ],
      "text/plain": [
       "  record_date daily_positive_cases daily_deaths     county       state  \\\n",
       "0  2020-01-21                    1            0  Snohomish  Washington   \n",
       "1  2020-01-22                    0            0  Snohomish  Washington   \n",
       "2  2020-01-23                    0            0  Snohomish  Washington   \n",
       "3  2020-01-24                    0            0  Snohomish  Washington   \n",
       "4  2020-01-25                    0            0  Snohomish  Washington   \n",
       "\n",
       "  county_id  \n",
       "0      2982  \n",
       "1      2982  \n",
       "2      2982  \n",
       "3      2982  \n",
       "4      2982  "
      ]
     },
     "execution_count": 22,
     "metadata": {},
     "output_type": "execute_result"
    }
   ],
   "source": [
    "df_out.head()"
   ]
  },
  {
   "cell_type": "code",
   "execution_count": 23,
   "id": "9f61efde",
   "metadata": {},
   "outputs": [],
   "source": [
    "df_out.to_csv(\"./cleaned/County_covid_data.csv\", index=False)"
   ]
  },
  {
   "cell_type": "markdown",
   "id": "171f8462",
   "metadata": {},
   "source": [
    "# Split file into two"
   ]
  },
  {
   "cell_type": "code",
   "execution_count": 26,
   "id": "22db525d",
   "metadata": {},
   "outputs": [
    {
     "data": {
      "text/plain": [
       "1648737"
      ]
     },
     "execution_count": 26,
     "metadata": {},
     "output_type": "execute_result"
    }
   ],
   "source": [
    "len(df_out)"
   ]
  },
  {
   "cell_type": "code",
   "execution_count": 27,
   "id": "90535489",
   "metadata": {},
   "outputs": [
    {
     "name": "stdout",
     "output_type": "stream",
     "text": [
      "824368 824369\n"
     ]
    }
   ],
   "source": [
    "df_out_1 = df_out[:len(df_out) // 2]\n",
    "df_out_2 = df_out[len(df_out) // 2:]\n",
    "print(len(df_out_1), len(df_out_2))"
   ]
  },
  {
   "cell_type": "code",
   "execution_count": 28,
   "id": "16c34b73",
   "metadata": {},
   "outputs": [],
   "source": [
    "df_out_1.to_csv(\"./cleaned/County_covid_data_part_i.csv\", index=False)\n",
    "df_out_2.to_csv(\"./cleaned/County_covid_data_part_ii.csv\", index=False)"
   ]
  },
  {
   "cell_type": "code",
   "execution_count": null,
   "id": "64fab794",
   "metadata": {},
   "outputs": [],
   "source": []
  },
  {
   "cell_type": "code",
   "execution_count": null,
   "id": "66a38b43",
   "metadata": {},
   "outputs": [],
   "source": []
  },
  {
   "cell_type": "code",
   "execution_count": null,
   "id": "ec8f2c63",
   "metadata": {},
   "outputs": [],
   "source": []
  }
 ],
 "metadata": {
  "kernelspec": {
   "display_name": "Python 3 (ipykernel)",
   "language": "python",
   "name": "python3"
  },
  "language_info": {
   "codemirror_mode": {
    "name": "ipython",
    "version": 3
   },
   "file_extension": ".py",
   "mimetype": "text/x-python",
   "name": "python",
   "nbconvert_exporter": "python",
   "pygments_lexer": "ipython3",
   "version": "3.8.12"
  }
 },
 "nbformat": 4,
 "nbformat_minor": 5
}
